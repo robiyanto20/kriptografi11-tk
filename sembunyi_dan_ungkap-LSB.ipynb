{
 "cells": [
  {
   "cell_type": "code",
   "execution_count": 5,
   "id": "399c060e-d7b7-4cf0-b024-2236e568dcab",
   "metadata": {},
   "outputs": [
    {
     "name": "stdout",
     "output_type": "stream",
     "text": [
      "Revealed data: Lorem ipssum dolor amet.\n"
     ]
    }
   ],
   "source": [
    "from stegano import lsb\n",
    "\n",
    "# Replace \"Lorem...\" with the actual data you want to hide\n",
    "data_to_hide = \"Lorem ipssum dolor amet.\"\n",
    "\n",
    "# Hide the data in the image\n",
    "secret = lsb.hide(\"gambar.png\", data_to_hide)\n",
    "\n",
    "# Save the steganographic image\n",
    "secret.save(\"gambar2.png\")\n",
    "\n",
    "# Try to reveal the hidden data\n",
    "try:\n",
    "    revealed_data = lsb.reveal(\"gambar2.png\")\n",
    "    print(\"Revealed data:\", revealed_data)\n",
    "except IndexError as e:\n",
    "    print(\"Error:\", e)"
   ]
  },
  {
   "cell_type": "code",
   "execution_count": null,
   "id": "6d936e7c-9e83-40a0-a792-f6d3dfb900e4",
   "metadata": {},
   "outputs": [],
   "source": []
  }
 ],
 "metadata": {
  "kernelspec": {
   "display_name": "Python 3 (ipykernel)",
   "language": "python",
   "name": "python3"
  },
  "language_info": {
   "codemirror_mode": {
    "name": "ipython",
    "version": 3
   },
   "file_extension": ".py",
   "mimetype": "text/x-python",
   "name": "python",
   "nbconvert_exporter": "python",
   "pygments_lexer": "ipython3",
   "version": "3.10.6"
  }
 },
 "nbformat": 4,
 "nbformat_minor": 5
}
