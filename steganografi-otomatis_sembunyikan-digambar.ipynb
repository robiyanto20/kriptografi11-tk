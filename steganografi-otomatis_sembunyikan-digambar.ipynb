{
 "cells": [
  {
   "cell_type": "code",
   "execution_count": 6,
   "id": "45a18de9-59c9-4291-b986-7cd51b2ddbd6",
   "metadata": {},
   "outputs": [
    {
     "name": "stdin",
     "output_type": "stream",
     "text": [
      "Masukkan pesan yang akan disembunyikan:  robiyanto\n",
      "Masukkan kunci (key) untuk enkripsi:  1234\n",
      "Konfirmasi kunci (key):  1234\n"
     ]
    },
    {
     "name": "stdout",
     "output_type": "stream",
     "text": [
      "Gambar sebelum penyembunyian:\n",
      "Gambar setelah penyembunyian:\n",
      "Revealed data: C]Q]HS]@^\n"
     ]
    }
   ],
   "source": [
    "from stegano import lsb\n",
    "from PIL import Image\n",
    "import zlib\n",
    "\n",
    "# Fungsi untuk mengompres teks menggunakan zlib\n",
    "def compress_data(text):\n",
    "    compressed_data = zlib.compress(text.encode())\n",
    "    return compressed_data\n",
    "\n",
    "# Fungsi untuk mendekompres data yang telah dikompresi menggunakan zlib\n",
    "def decompress_data(compressed_data):\n",
    "    decompressed_data = zlib.decompress(compressed_data)\n",
    "    return decompressed_data.decode()\n",
    "\n",
    "# Fungsi untuk mengenkripsi teks menggunakan One-Time Pad (OTP)\n",
    "def otp_encrypt(plain_text, key):\n",
    "    encrypted_text = ''\n",
    "    for i in range(len(plain_text)):\n",
    "        char = plain_text[i]\n",
    "        key_char = key[i % len(key)]\n",
    "        encrypted_text += chr(ord(char) ^ ord(key_char))\n",
    "    return encrypted_text\n",
    "\n",
    "# Fungsi untuk mengonversi teks ke dalam bentuk biner\n",
    "def text_to_binary(text):\n",
    "    binary_data = ''.join(format(byte, '08b') for byte in text)\n",
    "    return binary_data\n",
    "\n",
    "# Input pesan yang akan disembunyikan\n",
    "data_to_hide = input(\"Masukkan pesan yang akan disembunyikan: \")\n",
    "\n",
    "# Input kunci (key) untuk enkripsi\n",
    "otp_key = input(\"Masukkan kunci (key) untuk enkripsi: \")\n",
    "\n",
    "# Konfirmasi kunci\n",
    "confirm_key = input(\"Konfirmasi kunci (key): \")\n",
    "\n",
    "# Memastikan kunci yang dimasukkan benar\n",
    "while confirm_key != otp_key:\n",
    "    print(\"Konfirmasi kunci tidak cocok. Silakan coba lagi.\")\n",
    "    confirm_key = input(\"Konfirmasi kunci (key): \")\n",
    "\n",
    "# Kompresi data sebelum menyembunyikannya\n",
    "compressed_data = compress_data(data_to_hide)\n",
    "\n",
    "# Konversi data terkompresi ke dalam bentuk biner\n",
    "binary_data_to_hide = text_to_binary(compressed_data)\n",
    "\n",
    "# Tampilkan gambar yang sudah dikompres\n",
    "print(\"Gambar sebelum penyembunyian:\")\n",
    "Image.open(\"pi.png\").show()\n",
    "\n",
    "# Sembunyikan data terkompresi dalam gambar\n",
    "secret = lsb.hide(\"pi.png\", binary_data_to_hide)\n",
    "\n",
    "# Simpan gambar steganografi\n",
    "secret.save(\"pi2.png\")\n",
    "\n",
    "# Tampilkan gambar yang sudah dikompres dan disembunyikan\n",
    "print(\"Gambar setelah penyembunyian:\")\n",
    "secret.show()\n",
    "\n",
    "# Coba untuk mengungkapkan data tersembunyi\n",
    "try:\n",
    "    revealed_binary_data = lsb.reveal(\"pi2.png\")\n",
    "    \n",
    "    # Konversi biner kembali ke data terkompresi\n",
    "    compressed_data_revealed = bytes([int(revealed_binary_data[i:i+8], 2) for i in range(0, len(revealed_binary_data), 8)])\n",
    "\n",
    "    # Dekompresi data\n",
    "    decompressed_data = decompress_data(compressed_data_revealed)\n",
    "\n",
    "    # Dekripsi teks menggunakan One-Time Pad\n",
    "    decrypted_text = otp_encrypt(decompressed_data, otp_key)\n",
    "\n",
    "    print(\"Revealed data:\", decrypted_text)\n",
    "except IndexError as e:\n",
    "    print(\"Error:\", e)"
   ]
  },
  {
   "cell_type": "code",
   "execution_count": null,
   "id": "2776569c-1f2d-4865-9f9b-bbf17314c5b4",
   "metadata": {},
   "outputs": [],
   "source": []
  }
 ],
 "metadata": {
  "kernelspec": {
   "display_name": "Python 3 (ipykernel)",
   "language": "python",
   "name": "python3"
  },
  "language_info": {
   "codemirror_mode": {
    "name": "ipython",
    "version": 3
   },
   "file_extension": ".py",
   "mimetype": "text/x-python",
   "name": "python",
   "nbconvert_exporter": "python",
   "pygments_lexer": "ipython3",
   "version": "3.10.6"
  }
 },
 "nbformat": 4,
 "nbformat_minor": 5
}
